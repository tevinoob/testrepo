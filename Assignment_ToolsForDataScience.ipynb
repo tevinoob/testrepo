{
 "cells": [
  {
   "cell_type": "markdown",
   "id": "ea38e3e1-3987-49d4-9463-4a43da9d3e01",
   "metadata": {},
   "source": [
    "# My Jupyter Notebook on IBM Watson Studio"
   ]
  },
  {
   "cell_type": "markdown",
   "id": "162e711b-c638-45bd-bebd-40d3151e135a",
   "metadata": {},
   "source": [
    "**Tevin Caranto**\n",
    "Data Scientist"
   ]
  },
  {
   "cell_type": "markdown",
   "id": "9b9d0a5f-cf5b-4989-9db7-9ec90036c885",
   "metadata": {},
   "source": [
    "*I am interested in data science because data science is everywhere. The possibilities of where you can work are endless, and the work is challenging and rewarding.*"
   ]
  },
  {
   "cell_type": "markdown",
   "id": "b60ae02f-fa1c-470d-83e3-5d4a5c21649b",
   "metadata": {},
   "source": [
    "### The code in Cell 5 is supposed to perform simple multiplication."
   ]
  },
  {
   "cell_type": "code",
   "execution_count": 1,
   "id": "78a14d94-6ee6-4921-8014-239cffb1a3ac",
   "metadata": {},
   "outputs": [
    {
     "data": {
      "text/plain": [
       "60"
      ]
     },
     "execution_count": 1,
     "metadata": {},
     "output_type": "execute_result"
    }
   ],
   "source": [
    "5*12"
   ]
  },
  {
   "cell_type": "markdown",
   "id": "07623405-5144-402e-9052-31b8e50234cf",
   "metadata": {},
   "source": [
    "~~Accident!~~\n",
    "\n",
    "---\n",
    "\n",
    "1. Get the skills\n",
    "2. Get the job\n",
    "3. Get the money"
   ]
  }
 ],
 "metadata": {
  "kernelspec": {
   "display_name": "Python",
   "language": "python",
   "name": "conda-env-python-py"
  },
  "language_info": {
   "codemirror_mode": {
    "name": "ipython",
    "version": 3
   },
   "file_extension": ".py",
   "mimetype": "text/x-python",
   "name": "python",
   "nbconvert_exporter": "python",
   "pygments_lexer": "ipython3",
   "version": "3.7.12"
  }
 },
 "nbformat": 4,
 "nbformat_minor": 5
}
